{
 "cells": [
  {
   "cell_type": "markdown",
   "metadata": {},
   "source": [
    "# 데모 가이드 문서"
   ]
  },
  {
   "cell_type": "markdown",
   "metadata": {},
   "source": [
    "## 1) 프로젝트 다운로드"
   ]
  },
  {
   "cell_type": "markdown",
   "metadata": {},
   "source": [
    "> git clone https://github.com/younhong/COVID19-Mask-Detection-Model 으로 다운로드\n",
    "\n",
    "> 만약 git이 설치되어 있지 않다면\n",
    ">> [링크](https://github.com/younhong/COVID19-Mask-Detection-Model)로 들어가서 zip 파일을 다운로드"
   ]
  },
  {
   "cell_type": "markdown",
   "metadata": {},
   "source": [
    "## 2) 환경 설정"
   ]
  },
  {
   "cell_type": "markdown",
   "metadata": {},
   "source": [
    "환경설정: 가상환경을 설정   \n",
    "Why?\n",
    "> 가상환경을 설치하지 않으면 기존의 파이썬 설치된 환경과 충돌하여 의도치 않은 에러가 날 수 있다.\n",
    "\n",
    "### Step1) 가상환경 생성에 필요한 패키지 설치\n",
    "Mac의 경우\n",
    "> pip install virtualenv virtualenvwrapper\n",
    "\n",
    "Window의 경우\n",
    "> pip install virtualenv virtualenvwrapper-win\n",
    "\n",
    "### Step2) 환경변수 설정\n",
    "Mac의 경우\n",
    "> 아래 커맨드로 virtualenvwrapper.sh가 설치된 위치 확인(결과값을 기억해둘 것)\n",
    ">> find / -name virtualenvwrapper.sh 2>/dev/null\n",
    ">> ![Result](snapshot/path.png)\n",
    ">> (경로가 두 가지 이상 나오면 둘 중에 하나 선택해서 복사)\n",
    "\n",
    "> .zshrc 파일을 열고 환경 변수를 추가(아래 이미지 마지막 3줄 참고)   \n",
    "> 마지막 줄의 source 뒤의 경로를 위에서 체크한 경로로 변경\n",
    ">> ![Result](snapshot/zshrc.png)\n",
    "\n",
    "> source ~/.zshrc 실행 후 재부팅\n",
    "\n",
    "Window의 경우\n",
    "> setx WORKON_HOME=\"프로젝트가 설치된 경로\"   \n",
    "> 재부팅\n",
    "\n",
    "### Step3) 가상환경 생성\n",
    "> mkvirtualenv test(test 대신 다른 이름 써도 괜찮음)\n",
    ">> ![Result](snapshot/mkvirtualenv.png)\n",
    ">> (맥 기준) 이미지 맨 아래에 표시된 부분과 같이 설정한 환경 이름이 표시되면 성공\n",
    "\n",
    "### Step4) 설치된 가상환경에 프로젝트 실행에 필요한 파이썬 모듈 설치\n",
    "> pip install -r requirements.txt"
   ]
  },
  {
   "cell_type": "markdown",
   "metadata": {},
   "source": [
    "## 3) 데이터 학습 단계"
   ]
  },
  {
   "cell_type": "markdown",
   "metadata": {},
   "source": [
    "> python train_mask_detector.py --dataset dataset\n",
    "\n",
    "> dataset 폴더 안에 있는 3800개의 이미지를 가져야 20번의 epoch 동안 각각 96번의 step을 거치며 학습을 진행"
   ]
  },
  {
   "cell_type": "markdown",
   "metadata": {},
   "source": [
    "## 4) 데이터 학습 결과에 대한 추가 설명"
   ]
  },
  {
   "cell_type": "markdown",
   "metadata": {},
   "source": [
    "![Image](snapshot/precision-recall-f1-accuracy.png) \n",
    "\n",
    "> (편의상 TP, TN, FP, FN으로 표시합니다)\n",
    "\n",
    "### 4-1) Precision\n",
    "> 모델이 True라고 예측한 값 중 실제 결과가 True의 값을 가지는 답의 비율\n",
    "\n",
    "\\begin{align}\n",
    "\\frac{TP}{(TP + FP)}\n",
    "\\end{align}\n",
    "\n",
    "### 4-2) Recall\n",
    "> 실제 True인 값 중 모델이 True라고 옳게 예측한 답의 비율\n",
    "\n",
    "\\begin{align}\n",
    "\\frac{TP}{(TP + FN)}\n",
    "\\end{align}\n",
    "\n",
    "### 4-3) F1\n",
    "> Precision과 Recall의 조화평균\n",
    "\n",
    "\\begin{align}\n",
    "\\frac{2 * precision * recall}{(precision + recall)}\n",
    "\\end{align}\n",
    "\n",
    "### 4-4) Accuracy\n",
    "> True라고 옳게 예측한 것과 False라고 옮게 예측한 것의 비율\n",
    "\n",
    "\\begin{align}\n",
    "\\frac{TP + TN}{(TP + FP + TN + FN)}\n",
    "\\end{align}\n",
    "\n",
    "### 4-5) 자료 출처\n",
    "> [출처](https://eunsukimme.github.io/ml/2019/10/21/Accuracy-Recall-Precision-F1-score/)"
   ]
  },
  {
   "cell_type": "markdown",
   "metadata": {},
   "source": [
    "## 5) 데이터 검증 단계"
   ]
  },
  {
   "cell_type": "markdown",
   "metadata": {},
   "source": [
    "### 실시간 웹캠 영상을 통한 검증"
   ]
  },
  {
   "cell_type": "markdown",
   "metadata": {},
   "source": [
    "> python detect_mask_video.py"
   ]
  },
  {
   "cell_type": "markdown",
   "metadata": {},
   "source": [
    "# 보완할 점\n",
    "\n",
    "## 1) 한정된 데이터\n",
    "> 현재 학습에 사용한 건 3800개의 이미지. 모든 상황을 커버하기는 부족하다. 더 정확한 검증을 위해서는 더 많은 학습 데이터가 필요하다.\n",
    "\n",
    "## 2) 마스크 불량 착용자 감지\n",
    "> 이 프로젝트는 마스크 착용 여부만 감지한다. 마스크를 코 끝까지 올리지 않은 사람들을 모두 감지하고 싶다면 그 부분에 해당하는 데이터와 레이블이 필요하다. 기존에 학습에 사용한 데이터만큼 많은 수의 데이터가 주어진다면 가능할 것으로 판단된다.\n",
    "\n",
    "## 3) 관리자에게 알림\n",
    "> 현재는 마스크 불량자를 감지하고 경고를 주는 것에 끝난다. 자동으로 관리자에게 메시지를 보낼 수 있도록 보완하면 좋을 것 같다."
   ]
  },
  {
   "cell_type": "markdown",
   "metadata": {},
   "source": [
    "# 기대효과"
   ]
  },
  {
   "cell_type": "markdown",
   "metadata": {},
   "source": [
    "> 종교시설 등 집단 감염의 위험이 있는 장소에서 마스크 미착용자를 감지하여 건물의 출입이나 이용을 제한하거나 격리 조취를 취할 수 있다. \n",
    "\n",
    "> 다수의 인원이 감지되더라도 실시간으로 마스크 미착용자의 수를 구분해낼 수 있다."
   ]
  }
 ],
 "metadata": {
  "kernelspec": {
   "display_name": "Python 3",
   "language": "python",
   "name": "python3"
  },
  "language_info": {
   "codemirror_mode": {
    "name": "ipython",
    "version": 3
   },
   "file_extension": ".py",
   "mimetype": "text/x-python",
   "name": "python",
   "nbconvert_exporter": "python",
   "pygments_lexer": "ipython3",
   "version": "3.8.3"
  }
 },
 "nbformat": 4,
 "nbformat_minor": 4
}
