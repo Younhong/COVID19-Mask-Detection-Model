{
 "cells": [
  {
   "cell_type": "markdown",
   "metadata": {},
   "source": [
    "# 데모 가이드 문서"
   ]
  },
  {
   "cell_type": "markdown",
   "metadata": {},
   "source": [
    "## 1) 프로젝트 다운로드"
   ]
  },
  {
   "cell_type": "markdown",
   "metadata": {},
   "source": [
    "> git clone https://github.com/younhong/COVID19-Mask-Detection-Model 으로 다운로드\n",
    "\n",
    "> 만약 git이 설치되어 있지 않다면\n",
    ">> [링크](https://github.com/younhong/COVID19-Mask-Detection-Model)로 들어가서 zip 파일을 다운로드"
   ]
  },
  {
   "cell_type": "markdown",
   "metadata": {},
   "source": [
    "## 2) 환경 설정"
   ]
  },
  {
   "cell_type": "markdown",
   "metadata": {},
   "source": [
    "환경설정: 가상환경을 설정   \n",
    "Why?\n",
    "> 가상환경을 설치하지 않으면 기존의 파이썬 설치된 환경과 충돌하여 의도치 않은 에러가 날 수 있다.\n",
    "\n",
    "### Step1) 가상환경 생성에 필요한 패키지 설치\n",
    "Mac의 경우\n",
    "> pip install virtualenv virtualenvwrapper\n",
    "\n",
    "Window의 경우\n",
    "> pip install virtualenv virtualenvwrapper-win\n",
    "\n",
    "### Step2) 환경변수 설정\n",
    "Mac의 경우\n",
    "> 아래 커맨드로 virtualenvwrapper.sh가 설치된 위치 확인(결과값을 기억해둘 것)\n",
    ">> find / -name virtualenvwrapper.sh 2>/dev/null\n",
    ">> ![Result](snapshot/path.png)\n",
    ">> (경로가 두 가지 이상 나오면 둘 중에 하나 선택해서 복사)\n",
    "\n",
    "> .zshrc 파일을 열고 환경 변수를 추가(아래 이미지 마지막 3줄 참고)   \n",
    "> 마지막 줄의 source 뒤의 경로를 위에서 체크한 경로로 변경\n",
    ">> ![Result](snapshot/zshrc.png)\n",
    "\n",
    "> source ~/.zshrc 실행 후 재부팅\n",
    "\n",
    "Window의 경우\n",
    "> setx WORKON_HOME=\"프로젝트가 설치된 경로\"   \n",
    "> 재부팅\n",
    "\n",
    "### Step3) 가상환경 생성\n",
    "> mkvirtualenv test(test 대신 다른 이름 써도 괜찮음)\n",
    ">> ![Result](snapshot/mkvirtualenv.png)\n",
    ">> (맥 기준) 이미지 맨 아래에 표시된 부분과 같이 설정한 환경 이름이 표시되면 성공\n",
    "\n",
    "### Step4) 설치된 가상환경에 프로젝트 실행에 필요한 파이썬 모듈 설치\n",
    "> pip install -r requirements.txt"
   ]
  },
  {
   "cell_type": "markdown",
   "metadata": {},
   "source": [
    "## 3) 데이터 학습 단계"
   ]
  },
  {
   "cell_type": "markdown",
   "metadata": {},
   "source": [
    "> python train_mask_detector.py --dataset dataset\n",
    "\n",
    "> dataset 폴더 안에 있는 3800개의 이미지를 가져야 20번의 epoch 동안 각각 96번의 step을 거치며 학습을 진행"
   ]
  },
  {
   "cell_type": "markdown",
   "metadata": {},
   "source": [
    "## 4) 데이터 검증 단계"
   ]
  },
  {
   "cell_type": "markdown",
   "metadata": {},
   "source": [
    "### 4-1) 이미지를 통한 검증"
   ]
  },
  {
   "cell_type": "markdown",
   "metadata": {},
   "source": [
    "> 전제조건: \n",
    ">> 1. 이미지는 반드시 학습에 사용하지 않은 새로운 이미지로 테스트 할 것(본인 얼굴 사진 찍어서 테스트하는 것이 좋은 방법)   \n",
    ">> 2. 이미지는 images라는 폴더 안에 넣을 것"
   ]
  },
  {
   "cell_type": "markdown",
   "metadata": {},
   "source": [
    "> python detect_mask_image.py --image images/파일명"
   ]
  },
  {
   "cell_type": "markdown",
   "metadata": {},
   "source": [
    "### 4-2) 웹캠 영상을 통한 검증"
   ]
  },
  {
   "cell_type": "markdown",
   "metadata": {},
   "source": [
    "> python detect_mask_video.py"
   ]
  },
  {
   "cell_type": "markdown",
   "metadata": {},
   "source": [
    "## 5) 데이터 학습 결과에 대한 추가 설명"
   ]
  },
  {
   "cell_type": "markdown",
   "metadata": {},
   "source": [
    "![Image](snapshot/precision-recall-f1-accuracy.png) \n",
    "\n",
    "> (편의상 TP, TN, FP, FN으로 표시합니다)\n",
    "\n",
    "### 5-1) Precision\n",
    "> 모델이 True라고 예측한 값 중 실제 결과가 True의 값을 가지는 답의 비율\n",
    "\n",
    "\\begin{align}\n",
    "\\frac{TP}{(TP + FP)}\n",
    "\\end{align}\n",
    "\n",
    "### 5-2) Recall\n",
    "> 실제 True인 값 중 모델이 True라고 옳게 예측한 답의 비율\n",
    "\n",
    "\\begin{align}\n",
    "\\frac{TP}{(TP + FN)}\n",
    "\\end{align}\n",
    "\n",
    "### 5-3) F1\n",
    "> Precision과 Recall의 조화평균\n",
    "\n",
    "\\begin{align}\n",
    "\\frac{2 * precision * recall}{(precision + recall)}\n",
    "\\end{align}\n",
    "\n",
    "### 5-4) Accuracy\n",
    "> True라고 예측하였고 실제로 True인 값 + False라고 예측&실제로 False\n",
    "\n",
    "\\begin{align}\n",
    "\\frac{TP + TN}{(TP + FP + TN + FN)}\n",
    "\\end{align}\n",
    "\n",
    "[출처](https://blog.naver.com/wideeyed/221531940245)   \n",
    "[출처 2](https://eunsukimme.github.io/ml/2019/10/21/Accuracy-Recall-Precision-F1-score/)"
   ]
  },
  {
   "cell_type": "code",
   "execution_count": null,
   "metadata": {},
   "outputs": [],
   "source": []
  }
 ],
 "metadata": {
  "kernelspec": {
   "display_name": "Python 3",
   "language": "python",
   "name": "python3"
  },
  "language_info": {
   "codemirror_mode": {
    "name": "ipython",
    "version": 3
   },
   "file_extension": ".py",
   "mimetype": "text/x-python",
   "name": "python",
   "nbconvert_exporter": "python",
   "pygments_lexer": "ipython3",
   "version": "3.8.3"
  }
 },
 "nbformat": 4,
 "nbformat_minor": 4
}
